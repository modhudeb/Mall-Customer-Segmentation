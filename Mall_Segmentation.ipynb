{
  "nbformat": 4,
  "nbformat_minor": 0,
  "metadata": {
    "colab": {
      "provenance": [],
      "collapsed_sections": [],
      "authorship_tag": "ABX9TyNvYxCaTW6XV6wdvCEKniHo",
      "include_colab_link": true
    },
    "kernelspec": {
      "name": "python3",
      "display_name": "Python 3"
    },
    "language_info": {
      "name": "python"
    }
  },
  "cells": [
    {
      "cell_type": "markdown",
      "metadata": {
        "id": "view-in-github",
        "colab_type": "text"
      },
      "source": [
        "<a href=\"https://colab.research.google.com/github/modhudeb/Mall-Customer-Segmentation/blob/main/Mall_Segmentation.ipynb\" target=\"_parent\"><img src=\"https://colab.research.google.com/assets/colab-badge.svg\" alt=\"Open In Colab\"/></a>"
      ]
    },
    {
      "cell_type": "markdown",
      "source": [
        "# Imports"
      ],
      "metadata": {
        "id": "onjck7NBKz0O"
      }
    },
    {
      "cell_type": "code",
      "execution_count": 1,
      "metadata": {
        "id": "GphWu8wuKpPX"
      },
      "outputs": [],
      "source": [
        "import numpy as np\n",
        "import pandas as pd\n",
        "import matplotlib.pyplot as plt\n",
        "import seaborn as sns\n",
        "%matplotlib inline"
      ]
    },
    {
      "cell_type": "markdown",
      "source": [
        "# Loading data"
      ],
      "metadata": {
        "id": "GdAUwWyWLom9"
      }
    },
    {
      "cell_type": "code",
      "source": [
        "data = pd.read_csv('Mall_Customers_Data.csv', index_col='CustomerID')\n",
        "df = data.copy()"
      ],
      "metadata": {
        "id": "Y4qXrNlYLcj4"
      },
      "execution_count": 2,
      "outputs": []
    },
    {
      "cell_type": "markdown",
      "source": [
        "# Preprocessing"
      ],
      "metadata": {
        "id": "GiwJWZtHMA_l"
      }
    },
    {
      "cell_type": "code",
      "source": [
        "df.columns\n",
        "df.columns = ['Gender', 'Age', 'AnnIncome',\n",
        "       'SpendScore']"
      ],
      "metadata": {
        "id": "gejrxaENMb8t"
      },
      "execution_count": 3,
      "outputs": []
    },
    {
      "cell_type": "code",
      "source": [
        "df.head(3)"
      ],
      "metadata": {
        "colab": {
          "base_uri": "https://localhost:8080/",
          "height": 175
        },
        "id": "VSpPfTqaNOFm",
        "outputId": "30e15c76-b936-4f10-d5b1-6031cbd5311f"
      },
      "execution_count": 4,
      "outputs": [
        {
          "output_type": "execute_result",
          "data": {
            "text/plain": [
              "            Gender  Age  AnnIncome  SpendScore\n",
              "CustomerID                                    \n",
              "1             Male   19         15          39\n",
              "2             Male   21         15          81\n",
              "3           Female   20         16           6"
            ],
            "text/html": [
              "\n",
              "  <div id=\"df-9f133503-dc99-45dc-bb86-e4bc78390590\">\n",
              "    <div class=\"colab-df-container\">\n",
              "      <div>\n",
              "<style scoped>\n",
              "    .dataframe tbody tr th:only-of-type {\n",
              "        vertical-align: middle;\n",
              "    }\n",
              "\n",
              "    .dataframe tbody tr th {\n",
              "        vertical-align: top;\n",
              "    }\n",
              "\n",
              "    .dataframe thead th {\n",
              "        text-align: right;\n",
              "    }\n",
              "</style>\n",
              "<table border=\"1\" class=\"dataframe\">\n",
              "  <thead>\n",
              "    <tr style=\"text-align: right;\">\n",
              "      <th></th>\n",
              "      <th>Gender</th>\n",
              "      <th>Age</th>\n",
              "      <th>AnnIncome</th>\n",
              "      <th>SpendScore</th>\n",
              "    </tr>\n",
              "    <tr>\n",
              "      <th>CustomerID</th>\n",
              "      <th></th>\n",
              "      <th></th>\n",
              "      <th></th>\n",
              "      <th></th>\n",
              "    </tr>\n",
              "  </thead>\n",
              "  <tbody>\n",
              "    <tr>\n",
              "      <th>1</th>\n",
              "      <td>Male</td>\n",
              "      <td>19</td>\n",
              "      <td>15</td>\n",
              "      <td>39</td>\n",
              "    </tr>\n",
              "    <tr>\n",
              "      <th>2</th>\n",
              "      <td>Male</td>\n",
              "      <td>21</td>\n",
              "      <td>15</td>\n",
              "      <td>81</td>\n",
              "    </tr>\n",
              "    <tr>\n",
              "      <th>3</th>\n",
              "      <td>Female</td>\n",
              "      <td>20</td>\n",
              "      <td>16</td>\n",
              "      <td>6</td>\n",
              "    </tr>\n",
              "  </tbody>\n",
              "</table>\n",
              "</div>\n",
              "      <button class=\"colab-df-convert\" onclick=\"convertToInteractive('df-9f133503-dc99-45dc-bb86-e4bc78390590')\"\n",
              "              title=\"Convert this dataframe to an interactive table.\"\n",
              "              style=\"display:none;\">\n",
              "        \n",
              "  <svg xmlns=\"http://www.w3.org/2000/svg\" height=\"24px\"viewBox=\"0 0 24 24\"\n",
              "       width=\"24px\">\n",
              "    <path d=\"M0 0h24v24H0V0z\" fill=\"none\"/>\n",
              "    <path d=\"M18.56 5.44l.94 2.06.94-2.06 2.06-.94-2.06-.94-.94-2.06-.94 2.06-2.06.94zm-11 1L8.5 8.5l.94-2.06 2.06-.94-2.06-.94L8.5 2.5l-.94 2.06-2.06.94zm10 10l.94 2.06.94-2.06 2.06-.94-2.06-.94-.94-2.06-.94 2.06-2.06.94z\"/><path d=\"M17.41 7.96l-1.37-1.37c-.4-.4-.92-.59-1.43-.59-.52 0-1.04.2-1.43.59L10.3 9.45l-7.72 7.72c-.78.78-.78 2.05 0 2.83L4 21.41c.39.39.9.59 1.41.59.51 0 1.02-.2 1.41-.59l7.78-7.78 2.81-2.81c.8-.78.8-2.07 0-2.86zM5.41 20L4 18.59l7.72-7.72 1.47 1.35L5.41 20z\"/>\n",
              "  </svg>\n",
              "      </button>\n",
              "      \n",
              "  <style>\n",
              "    .colab-df-container {\n",
              "      display:flex;\n",
              "      flex-wrap:wrap;\n",
              "      gap: 12px;\n",
              "    }\n",
              "\n",
              "    .colab-df-convert {\n",
              "      background-color: #E8F0FE;\n",
              "      border: none;\n",
              "      border-radius: 50%;\n",
              "      cursor: pointer;\n",
              "      display: none;\n",
              "      fill: #1967D2;\n",
              "      height: 32px;\n",
              "      padding: 0 0 0 0;\n",
              "      width: 32px;\n",
              "    }\n",
              "\n",
              "    .colab-df-convert:hover {\n",
              "      background-color: #E2EBFA;\n",
              "      box-shadow: 0px 1px 2px rgba(60, 64, 67, 0.3), 0px 1px 3px 1px rgba(60, 64, 67, 0.15);\n",
              "      fill: #174EA6;\n",
              "    }\n",
              "\n",
              "    [theme=dark] .colab-df-convert {\n",
              "      background-color: #3B4455;\n",
              "      fill: #D2E3FC;\n",
              "    }\n",
              "\n",
              "    [theme=dark] .colab-df-convert:hover {\n",
              "      background-color: #434B5C;\n",
              "      box-shadow: 0px 1px 3px 1px rgba(0, 0, 0, 0.15);\n",
              "      filter: drop-shadow(0px 1px 2px rgba(0, 0, 0, 0.3));\n",
              "      fill: #FFFFFF;\n",
              "    }\n",
              "  </style>\n",
              "\n",
              "      <script>\n",
              "        const buttonEl =\n",
              "          document.querySelector('#df-9f133503-dc99-45dc-bb86-e4bc78390590 button.colab-df-convert');\n",
              "        buttonEl.style.display =\n",
              "          google.colab.kernel.accessAllowed ? 'block' : 'none';\n",
              "\n",
              "        async function convertToInteractive(key) {\n",
              "          const element = document.querySelector('#df-9f133503-dc99-45dc-bb86-e4bc78390590');\n",
              "          const dataTable =\n",
              "            await google.colab.kernel.invokeFunction('convertToInteractive',\n",
              "                                                     [key], {});\n",
              "          if (!dataTable) return;\n",
              "\n",
              "          const docLinkHtml = 'Like what you see? Visit the ' +\n",
              "            '<a target=\"_blank\" href=https://colab.research.google.com/notebooks/data_table.ipynb>data table notebook</a>'\n",
              "            + ' to learn more about interactive tables.';\n",
              "          element.innerHTML = '';\n",
              "          dataTable['output_type'] = 'display_data';\n",
              "          await google.colab.output.renderOutput(dataTable, element);\n",
              "          const docLink = document.createElement('div');\n",
              "          docLink.innerHTML = docLinkHtml;\n",
              "          element.appendChild(docLink);\n",
              "        }\n",
              "      </script>\n",
              "    </div>\n",
              "  </div>\n",
              "  "
            ]
          },
          "metadata": {},
          "execution_count": 4
        }
      ]
    },
    {
      "cell_type": "code",
      "source": [
        "df.info()"
      ],
      "metadata": {
        "colab": {
          "base_uri": "https://localhost:8080/"
        },
        "id": "CL_f6xAKNbml",
        "outputId": "b2395008-4112-42b8-86a1-879028a10aa0"
      },
      "execution_count": 5,
      "outputs": [
        {
          "output_type": "stream",
          "name": "stdout",
          "text": [
            "<class 'pandas.core.frame.DataFrame'>\n",
            "Int64Index: 200 entries, 1 to 200\n",
            "Data columns (total 4 columns):\n",
            " #   Column      Non-Null Count  Dtype \n",
            "---  ------      --------------  ----- \n",
            " 0   Gender      200 non-null    object\n",
            " 1   Age         200 non-null    int64 \n",
            " 2   AnnIncome   200 non-null    int64 \n",
            " 3   SpendScore  200 non-null    int64 \n",
            "dtypes: int64(3), object(1)\n",
            "memory usage: 7.8+ KB\n"
          ]
        }
      ]
    },
    {
      "cell_type": "code",
      "source": [
        "# Handling object type data\n",
        "from sklearn.preprocessing import LabelEncoder"
      ],
      "metadata": {
        "id": "VDquVucvNmTM"
      },
      "execution_count": 6,
      "outputs": []
    },
    {
      "cell_type": "code",
      "source": [
        "encoder = LabelEncoder()\n",
        "df['Gender'] = encoder.fit_transform(df['Gender'])"
      ],
      "metadata": {
        "id": "HvUO4wdcN6cU"
      },
      "execution_count": 7,
      "outputs": []
    },
    {
      "cell_type": "markdown",
      "source": [
        "## EDA"
      ],
      "metadata": {
        "id": "UNSzRb8RMTCA"
      }
    },
    {
      "cell_type": "code",
      "source": [
        "df.describe().T"
      ],
      "metadata": {
        "colab": {
          "base_uri": "https://localhost:8080/",
          "height": 175
        },
        "id": "Wf81pGItSBa9",
        "outputId": "de0255fa-df1c-4841-a181-e81f308ce807"
      },
      "execution_count": 8,
      "outputs": [
        {
          "output_type": "execute_result",
          "data": {
            "text/plain": [
              "            count   mean        std   min    25%   50%   75%    max\n",
              "Gender      200.0   0.44   0.497633   0.0   0.00   0.0   1.0    1.0\n",
              "Age         200.0  38.85  13.969007  18.0  28.75  36.0  49.0   70.0\n",
              "AnnIncome   200.0  60.56  26.264721  15.0  41.50  61.5  78.0  137.0\n",
              "SpendScore  200.0  50.20  25.823522   1.0  34.75  50.0  73.0   99.0"
            ],
            "text/html": [
              "\n",
              "  <div id=\"df-5ec4e1a6-fbbf-409f-8985-d9c1837dcd10\">\n",
              "    <div class=\"colab-df-container\">\n",
              "      <div>\n",
              "<style scoped>\n",
              "    .dataframe tbody tr th:only-of-type {\n",
              "        vertical-align: middle;\n",
              "    }\n",
              "\n",
              "    .dataframe tbody tr th {\n",
              "        vertical-align: top;\n",
              "    }\n",
              "\n",
              "    .dataframe thead th {\n",
              "        text-align: right;\n",
              "    }\n",
              "</style>\n",
              "<table border=\"1\" class=\"dataframe\">\n",
              "  <thead>\n",
              "    <tr style=\"text-align: right;\">\n",
              "      <th></th>\n",
              "      <th>count</th>\n",
              "      <th>mean</th>\n",
              "      <th>std</th>\n",
              "      <th>min</th>\n",
              "      <th>25%</th>\n",
              "      <th>50%</th>\n",
              "      <th>75%</th>\n",
              "      <th>max</th>\n",
              "    </tr>\n",
              "  </thead>\n",
              "  <tbody>\n",
              "    <tr>\n",
              "      <th>Gender</th>\n",
              "      <td>200.0</td>\n",
              "      <td>0.44</td>\n",
              "      <td>0.497633</td>\n",
              "      <td>0.0</td>\n",
              "      <td>0.00</td>\n",
              "      <td>0.0</td>\n",
              "      <td>1.0</td>\n",
              "      <td>1.0</td>\n",
              "    </tr>\n",
              "    <tr>\n",
              "      <th>Age</th>\n",
              "      <td>200.0</td>\n",
              "      <td>38.85</td>\n",
              "      <td>13.969007</td>\n",
              "      <td>18.0</td>\n",
              "      <td>28.75</td>\n",
              "      <td>36.0</td>\n",
              "      <td>49.0</td>\n",
              "      <td>70.0</td>\n",
              "    </tr>\n",
              "    <tr>\n",
              "      <th>AnnIncome</th>\n",
              "      <td>200.0</td>\n",
              "      <td>60.56</td>\n",
              "      <td>26.264721</td>\n",
              "      <td>15.0</td>\n",
              "      <td>41.50</td>\n",
              "      <td>61.5</td>\n",
              "      <td>78.0</td>\n",
              "      <td>137.0</td>\n",
              "    </tr>\n",
              "    <tr>\n",
              "      <th>SpendScore</th>\n",
              "      <td>200.0</td>\n",
              "      <td>50.20</td>\n",
              "      <td>25.823522</td>\n",
              "      <td>1.0</td>\n",
              "      <td>34.75</td>\n",
              "      <td>50.0</td>\n",
              "      <td>73.0</td>\n",
              "      <td>99.0</td>\n",
              "    </tr>\n",
              "  </tbody>\n",
              "</table>\n",
              "</div>\n",
              "      <button class=\"colab-df-convert\" onclick=\"convertToInteractive('df-5ec4e1a6-fbbf-409f-8985-d9c1837dcd10')\"\n",
              "              title=\"Convert this dataframe to an interactive table.\"\n",
              "              style=\"display:none;\">\n",
              "        \n",
              "  <svg xmlns=\"http://www.w3.org/2000/svg\" height=\"24px\"viewBox=\"0 0 24 24\"\n",
              "       width=\"24px\">\n",
              "    <path d=\"M0 0h24v24H0V0z\" fill=\"none\"/>\n",
              "    <path d=\"M18.56 5.44l.94 2.06.94-2.06 2.06-.94-2.06-.94-.94-2.06-.94 2.06-2.06.94zm-11 1L8.5 8.5l.94-2.06 2.06-.94-2.06-.94L8.5 2.5l-.94 2.06-2.06.94zm10 10l.94 2.06.94-2.06 2.06-.94-2.06-.94-.94-2.06-.94 2.06-2.06.94z\"/><path d=\"M17.41 7.96l-1.37-1.37c-.4-.4-.92-.59-1.43-.59-.52 0-1.04.2-1.43.59L10.3 9.45l-7.72 7.72c-.78.78-.78 2.05 0 2.83L4 21.41c.39.39.9.59 1.41.59.51 0 1.02-.2 1.41-.59l7.78-7.78 2.81-2.81c.8-.78.8-2.07 0-2.86zM5.41 20L4 18.59l7.72-7.72 1.47 1.35L5.41 20z\"/>\n",
              "  </svg>\n",
              "      </button>\n",
              "      \n",
              "  <style>\n",
              "    .colab-df-container {\n",
              "      display:flex;\n",
              "      flex-wrap:wrap;\n",
              "      gap: 12px;\n",
              "    }\n",
              "\n",
              "    .colab-df-convert {\n",
              "      background-color: #E8F0FE;\n",
              "      border: none;\n",
              "      border-radius: 50%;\n",
              "      cursor: pointer;\n",
              "      display: none;\n",
              "      fill: #1967D2;\n",
              "      height: 32px;\n",
              "      padding: 0 0 0 0;\n",
              "      width: 32px;\n",
              "    }\n",
              "\n",
              "    .colab-df-convert:hover {\n",
              "      background-color: #E2EBFA;\n",
              "      box-shadow: 0px 1px 2px rgba(60, 64, 67, 0.3), 0px 1px 3px 1px rgba(60, 64, 67, 0.15);\n",
              "      fill: #174EA6;\n",
              "    }\n",
              "\n",
              "    [theme=dark] .colab-df-convert {\n",
              "      background-color: #3B4455;\n",
              "      fill: #D2E3FC;\n",
              "    }\n",
              "\n",
              "    [theme=dark] .colab-df-convert:hover {\n",
              "      background-color: #434B5C;\n",
              "      box-shadow: 0px 1px 3px 1px rgba(0, 0, 0, 0.15);\n",
              "      filter: drop-shadow(0px 1px 2px rgba(0, 0, 0, 0.3));\n",
              "      fill: #FFFFFF;\n",
              "    }\n",
              "  </style>\n",
              "\n",
              "      <script>\n",
              "        const buttonEl =\n",
              "          document.querySelector('#df-5ec4e1a6-fbbf-409f-8985-d9c1837dcd10 button.colab-df-convert');\n",
              "        buttonEl.style.display =\n",
              "          google.colab.kernel.accessAllowed ? 'block' : 'none';\n",
              "\n",
              "        async function convertToInteractive(key) {\n",
              "          const element = document.querySelector('#df-5ec4e1a6-fbbf-409f-8985-d9c1837dcd10');\n",
              "          const dataTable =\n",
              "            await google.colab.kernel.invokeFunction('convertToInteractive',\n",
              "                                                     [key], {});\n",
              "          if (!dataTable) return;\n",
              "\n",
              "          const docLinkHtml = 'Like what you see? Visit the ' +\n",
              "            '<a target=\"_blank\" href=https://colab.research.google.com/notebooks/data_table.ipynb>data table notebook</a>'\n",
              "            + ' to learn more about interactive tables.';\n",
              "          element.innerHTML = '';\n",
              "          dataTable['output_type'] = 'display_data';\n",
              "          await google.colab.output.renderOutput(dataTable, element);\n",
              "          const docLink = document.createElement('div');\n",
              "          docLink.innerHTML = docLinkHtml;\n",
              "          element.appendChild(docLink);\n",
              "        }\n",
              "      </script>\n",
              "    </div>\n",
              "  </div>\n",
              "  "
            ]
          },
          "metadata": {},
          "execution_count": 8
        }
      ]
    },
    {
      "cell_type": "code",
      "source": [
        "dist = df.Gender.value_counts()\n",
        "dist"
      ],
      "metadata": {
        "colab": {
          "base_uri": "https://localhost:8080/"
        },
        "id": "jj__R65JL8bV",
        "outputId": "24756d75-475a-4216-99d4-03173bd48c00"
      },
      "execution_count": 9,
      "outputs": [
        {
          "output_type": "execute_result",
          "data": {
            "text/plain": [
              "0    112\n",
              "1     88\n",
              "Name: Gender, dtype: int64"
            ]
          },
          "metadata": {},
          "execution_count": 9
        }
      ]
    },
    {
      "cell_type": "code",
      "source": [
        "sns.barplot(x=dist.index, y=dist.values)"
      ],
      "metadata": {
        "colab": {
          "base_uri": "https://localhost:8080/",
          "height": 282
        },
        "id": "K9Wz23WzPb9z",
        "outputId": "4162ac7e-a3e6-49dd-a9cb-a0ee067a98d4"
      },
      "execution_count": 10,
      "outputs": [
        {
          "output_type": "execute_result",
          "data": {
            "text/plain": [
              "<matplotlib.axes._subplots.AxesSubplot at 0x7fd25f150bd0>"
            ]
          },
          "metadata": {},
          "execution_count": 10
        },
        {
          "output_type": "display_data",
          "data": {
            "text/plain": [
              "<Figure size 432x288 with 1 Axes>"
            ],
            "image/png": "[encoded data removed]"
          },
          "metadata": {
            "needs_background": "light"
          }
        }
      ]
    },
    {
      "cell_type": "code",
      "source": [
        "sns.histplot(x=df.Age, bins=5,binrange=[18,70])"
      ],
      "metadata": {
        "colab": {
          "base_uri": "https://localhost:8080/",
          "height": 296
        },
        "id": "FUMhLSH8P42r",
        "outputId": "907f6b68-4ec0-4259-fd0b-f06e93457814"
      },
      "execution_count": 11,
      "outputs": [
        {
          "output_type": "execute_result",
          "data": {
            "text/plain": [
              "<matplotlib.axes._subplots.AxesSubplot at 0x7fd25e03d790>"
            ]
          },
          "metadata": {},
          "execution_count": 11
        },
        {
          "output_type": "display_data",
          "data": {
            "text/plain": [
              "<Figure size 432x288 with 1 Axes>"
            ],
            "image/png": "[encoded data removed]"
          },
          "metadata": {
            "needs_background": "light"
          }
        }
      ]
    },
    {
      "cell_type": "code",
      "source": [
        "sns.histplot(x=df.AnnIncome,bins=5)"
      ],
      "metadata": {
        "colab": {
          "base_uri": "https://localhost:8080/",
          "height": 296
        },
        "id": "_0vQuUUDRnkc",
        "outputId": "d636709e-4edf-43e6-93bd-89bc7b8319cd"
      },
      "execution_count": 12,
      "outputs": [
        {
          "output_type": "execute_result",
          "data": {
            "text/plain": [
              "<matplotlib.axes._subplots.AxesSubplot at 0x7fd25db27710>"
            ]
          },
          "metadata": {},
          "execution_count": 12
        },
        {
          "output_type": "display_data",
          "data": {
            "text/plain": [
              "<Figure size 432x288 with 1 Axes>"
            ],
            "image/png": "[encoded data removed]"
          },
          "metadata": {
            "needs_background": "light"
          }
        }
      ]
    },
    {
      "cell_type": "code",
      "source": [
        "sns.histplot(x=df.SpendScore, bins=5)"
      ],
      "metadata": {
        "id": "1CPkfiaWTcP7",
        "colab": {
          "base_uri": "https://localhost:8080/",
          "height": 296
        },
        "outputId": "fd943f02-f3a4-4b21-d38d-09d9070a9adf"
      },
      "execution_count": 13,
      "outputs": [
        {
          "output_type": "execute_result",
          "data": {
            "text/plain": [
              "<matplotlib.axes._subplots.AxesSubplot at 0x7fd25da9ed10>"
            ]
          },
          "metadata": {},
          "execution_count": 13
        },
        {
          "output_type": "display_data",
          "data": {
            "text/plain": [
              "<Figure size 432x288 with 1 Axes>"
            ],
            "image/png": "[encoded data removed]"
          },
          "metadata": {
            "needs_background": "light"
          }
        }
      ]
    },
    {
      "cell_type": "code",
      "source": [
        "# using this we will get an idea about which pairs of column is most suitably clustered\n",
        "sns.pairplot(df)"
      ],
      "metadata": {
        "colab": {
          "base_uri": "https://localhost:8080/",
          "height": 743
        },
        "id": "Caxns_du4FPw",
        "outputId": "dc21f83a-c886-4bf4-9896-04b9ef0fc247"
      },
      "execution_count": 14,
      "outputs": [
        {
          "output_type": "execute_result",
          "data": {
            "text/plain": [
              "<seaborn.axisgrid.PairGrid at 0x7fd25dae0f90>"
            ]
          },
          "metadata": {},
          "execution_count": 14
        },
        {
          "output_type": "display_data",
          "data": {
            "text/plain": [
              "<Figure size 720x720 with 20 Axes>"
            ],
            "image/png": "[encoded data removed]"
          },
          "metadata": {
            "needs_background": "light"
          }
        }
      ]
    },
    {
      "cell_type": "markdown",
      "source": [
        "From this vizual we got to know that AnnIncome and SpendScore is most clustered pair "
      ],
      "metadata": {
        "id": "KjGJrO4O6Dzj"
      }
    },
    {
      "cell_type": "markdown",
      "source": [
        "# Algorithm"
      ],
      "metadata": {
        "id": "g5FJB8dC6YYb"
      }
    },
    {
      "cell_type": "markdown",
      "source": [
        "## K-means"
      ],
      "metadata": {
        "id": "POHz_INi6b4b"
      }
    },
    {
      "cell_type": "code",
      "source": [
        "from sklearn.cluster import KMeans"
      ],
      "metadata": {
        "id": "KUsxlzsV6UxU"
      },
      "execution_count": 15,
      "outputs": []
    },
    {
      "cell_type": "code",
      "source": [
        "# for Kmeans clustering we will need perfect value of 'n_cluster'\n",
        "# to find this value we will need ELBOW method testing\n",
        "inertiaz = []\n",
        "ks= np.arange(1,10)\n",
        "for k in ks:\n",
        "  kmean = KMeans(n_clusters=k)\n",
        "  kmean.fit(df[['AnnIncome','SpendScore']])\n",
        "  inertiaz.append(kmean.inertia_)"
      ],
      "metadata": {
        "id": "2myYZk6n6pV7"
      },
      "execution_count": 16,
      "outputs": []
    },
    {
      "cell_type": "code",
      "source": [
        "plt.figure(1,figsize=(12,7))\n",
        "plt.plot(ks, inertiaz,'bo--')\n",
        "plt.title('Best K value - Elbow method')\n",
        "plt.show()"
      ],
      "metadata": {
        "colab": {
          "base_uri": "https://localhost:8080/",
          "height": 444
        },
        "id": "_PqcIjtf84gS",
        "outputId": "90643b32-97e7-4f8f-c6c1-370d4b62c704"
      },
      "execution_count": 17,
      "outputs": [
        {
          "output_type": "display_data",
          "data": {
            "text/plain": [
              "<Figure size 864x504 with 1 Axes>"
            ],
            "image/png": "[encoded data removed]"
          },
          "metadata": {
            "needs_background": "light"
          }
        }
      ]
    },
    {
      "cell_type": "markdown",
      "source": [
        "from this plot we can see the best value of n_cluster is '4' or '5'"
      ],
      "metadata": {
        "id": "c4l6lE-kBswS"
      }
    },
    {
      "cell_type": "code",
      "source": [
        "kmeans = KMeans(n_clusters=5, random_state=42)\n",
        "df['Cluster'] = kmeans.fit_predict(df[['AnnIncome','SpendScore']])"
      ],
      "metadata": {
        "id": "3hc_ttkS8-9z"
      },
      "execution_count": 18,
      "outputs": []
    },
    {
      "cell_type": "code",
      "source": [
        "df.head(3)"
      ],
      "metadata": {
        "colab": {
          "base_uri": "https://localhost:8080/",
          "height": 175
        },
        "id": "KjMHuVbAEo0Z",
        "outputId": "8229ba02-6db9-4de4-e092-321f6e0c7c75"
      },
      "execution_count": 19,
      "outputs": [
        {
          "output_type": "execute_result",
          "data": {
            "text/plain": [
              "            Gender  Age  AnnIncome  SpendScore  Cluster\n",
              "CustomerID                                             \n",
              "1                1   19         15          39        2\n",
              "2                1   21         15          81        3\n",
              "3                0   20         16           6        2"
            ],
            "text/html": [
              "\n",
              "  <div id=\"df-b2fd8683-8bcb-43b6-bdf4-d405a89f3e5a\">\n",
              "    <div class=\"colab-df-container\">\n",
              "      <div>\n",
              "<style scoped>\n",
              "    .dataframe tbody tr th:only-of-type {\n",
              "        vertical-align: middle;\n",
              "    }\n",
              "\n",
              "    .dataframe tbody tr th {\n",
              "        vertical-align: top;\n",
              "    }\n",
              "\n",
              "    .dataframe thead th {\n",
              "        text-align: right;\n",
              "    }\n",
              "</style>\n",
              "<table border=\"1\" class=\"dataframe\">\n",
              "  <thead>\n",
              "    <tr style=\"text-align: right;\">\n",
              "      <th></th>\n",
              "      <th>Gender</th>\n",
              "      <th>Age</th>\n",
              "      <th>AnnIncome</th>\n",
              "      <th>SpendScore</th>\n",
              "      <th>Cluster</th>\n",
              "    </tr>\n",
              "    <tr>\n",
              "      <th>CustomerID</th>\n",
              "      <th></th>\n",
              "      <th></th>\n",
              "      <th></th>\n",
              "      <th></th>\n",
              "      <th></th>\n",
              "    </tr>\n",
              "  </thead>\n",
              "  <tbody>\n",
              "    <tr>\n",
              "      <th>1</th>\n",
              "      <td>1</td>\n",
              "      <td>19</td>\n",
              "      <td>15</td>\n",
              "      <td>39</td>\n",
              "      <td>2</td>\n",
              "    </tr>\n",
              "    <tr>\n",
              "      <th>2</th>\n",
              "      <td>1</td>\n",
              "      <td>21</td>\n",
              "      <td>15</td>\n",
              "      <td>81</td>\n",
              "      <td>3</td>\n",
              "    </tr>\n",
              "    <tr>\n",
              "      <th>3</th>\n",
              "      <td>0</td>\n",
              "      <td>20</td>\n",
              "      <td>16</td>\n",
              "      <td>6</td>\n",
              "      <td>2</td>\n",
              "    </tr>\n",
              "  </tbody>\n",
              "</table>\n",
              "</div>\n",
              "      <button class=\"colab-df-convert\" onclick=\"convertToInteractive('df-b2fd8683-8bcb-43b6-bdf4-d405a89f3e5a')\"\n",
              "              title=\"Convert this dataframe to an interactive table.\"\n",
              "              style=\"display:none;\">\n",
              "        \n",
              "  <svg xmlns=\"http://www.w3.org/2000/svg\" height=\"24px\"viewBox=\"0 0 24 24\"\n",
              "       width=\"24px\">\n",
              "    <path d=\"M0 0h24v24H0V0z\" fill=\"none\"/>\n",
              "    <path d=\"M18.56 5.44l.94 2.06.94-2.06 2.06-.94-2.06-.94-.94-2.06-.94 2.06-2.06.94zm-11 1L8.5 8.5l.94-2.06 2.06-.94-2.06-.94L8.5 2.5l-.94 2.06-2.06.94zm10 10l.94 2.06.94-2.06 2.06-.94-2.06-.94-.94-2.06-.94 2.06-2.06.94z\"/><path d=\"M17.41 7.96l-1.37-1.37c-.4-.4-.92-.59-1.43-.59-.52 0-1.04.2-1.43.59L10.3 9.45l-7.72 7.72c-.78.78-.78 2.05 0 2.83L4 21.41c.39.39.9.59 1.41.59.51 0 1.02-.2 1.41-.59l7.78-7.78 2.81-2.81c.8-.78.8-2.07 0-2.86zM5.41 20L4 18.59l7.72-7.72 1.47 1.35L5.41 20z\"/>\n",
              "  </svg>\n",
              "      </button>\n",
              "      \n",
              "  <style>\n",
              "    .colab-df-container {\n",
              "      display:flex;\n",
              "      flex-wrap:wrap;\n",
              "      gap: 12px;\n",
              "    }\n",
              "\n",
              "    .colab-df-convert {\n",
              "      background-color: #E8F0FE;\n",
              "      border: none;\n",
              "      border-radius: 50%;\n",
              "      cursor: pointer;\n",
              "      display: none;\n",
              "      fill: #1967D2;\n",
              "      height: 32px;\n",
              "      padding: 0 0 0 0;\n",
              "      width: 32px;\n",
              "    }\n",
              "\n",
              "    .colab-df-convert:hover {\n",
              "      background-color: #E2EBFA;\n",
              "      box-shadow: 0px 1px 2px rgba(60, 64, 67, 0.3), 0px 1px 3px 1px rgba(60, 64, 67, 0.15);\n",
              "      fill: #174EA6;\n",
              "    }\n",
              "\n",
              "    [theme=dark] .colab-df-convert {\n",
              "      background-color: #3B4455;\n",
              "      fill: #D2E3FC;\n",
              "    }\n",
              "\n",
              "    [theme=dark] .colab-df-convert:hover {\n",
              "      background-color: #434B5C;\n",
              "      box-shadow: 0px 1px 3px 1px rgba(0, 0, 0, 0.15);\n",
              "      filter: drop-shadow(0px 1px 2px rgba(0, 0, 0, 0.3));\n",
              "      fill: #FFFFFF;\n",
              "    }\n",
              "  </style>\n",
              "\n",
              "      <script>\n",
              "        const buttonEl =\n",
              "          document.querySelector('#df-b2fd8683-8bcb-43b6-bdf4-d405a89f3e5a button.colab-df-convert');\n",
              "        buttonEl.style.display =\n",
              "          google.colab.kernel.accessAllowed ? 'block' : 'none';\n",
              "\n",
              "        async function convertToInteractive(key) {\n",
              "          const element = document.querySelector('#df-b2fd8683-8bcb-43b6-bdf4-d405a89f3e5a');\n",
              "          const dataTable =\n",
              "            await google.colab.kernel.invokeFunction('convertToInteractive',\n",
              "                                                     [key], {});\n",
              "          if (!dataTable) return;\n",
              "\n",
              "          const docLinkHtml = 'Like what you see? Visit the ' +\n",
              "            '<a target=\"_blank\" href=https://colab.research.google.com/notebooks/data_table.ipynb>data table notebook</a>'\n",
              "            + ' to learn more about interactive tables.';\n",
              "          element.innerHTML = '';\n",
              "          dataTable['output_type'] = 'display_data';\n",
              "          await google.colab.output.renderOutput(dataTable, element);\n",
              "          const docLink = document.createElement('div');\n",
              "          docLink.innerHTML = docLinkHtml;\n",
              "          element.appendChild(docLink);\n",
              "        }\n",
              "      </script>\n",
              "    </div>\n",
              "  </div>\n",
              "  "
            ]
          },
          "metadata": {},
          "execution_count": 19
        }
      ]
    },
    {
      "cell_type": "code",
      "source": [
        "plt.figure(1, figsize=(15,8))\n",
        "sns.scatterplot(x= df.AnnIncome, y=df.SpendScore, hue = df.Cluster, palette='coolwarm')"
      ],
      "metadata": {
        "colab": {
          "base_uri": "https://localhost:8080/",
          "height": 514
        },
        "id": "MJ5dp1zIEyph",
        "outputId": "10743103-0011-4015-a71a-947cfec50d6f"
      },
      "execution_count": 20,
      "outputs": [
        {
          "output_type": "execute_result",
          "data": {
            "text/plain": [
              "<matplotlib.axes._subplots.AxesSubplot at 0x7fd2586a6890>"
            ]
          },
          "metadata": {},
          "execution_count": 20
        },
        {
          "output_type": "display_data",
          "data": {
            "text/plain": [
              "<Figure size 1080x576 with 1 Axes>"
            ],
            "image/png": "[encoded data removed]"
          },
          "metadata": {
            "needs_background": "light"
          }
        }
      ]
    },
    {
      "cell_type": "markdown",
      "source": [
        "## validation"
      ],
      "metadata": {
        "id": "CkhFB3ELIU2Q"
      }
    },
    {
      "cell_type": "code",
      "source": [
        "from sklearn.metrics import silhouette_score, silhouette_samples"
      ],
      "metadata": {
        "id": "XGwurQeSIWdY"
      },
      "execution_count": 21,
      "outputs": []
    },
    {
      "cell_type": "code",
      "source": [
        "silScore = silhouette_score(df[['AnnIncome', 'SpendScore']], df.Cluster)\n",
        "silScore"
      ],
      "metadata": {
        "id": "F6CQIkZ7IfYK",
        "colab": {
          "base_uri": "https://localhost:8080/"
        },
        "outputId": "64bd64d2-b0c3-4f6e-949d-19fd5fd70c2e"
      },
      "execution_count": 22,
      "outputs": [
        {
          "output_type": "execute_result",
          "data": {
            "text/plain": [
              "0.553931997444648"
            ]
          },
          "metadata": {},
          "execution_count": 22
        }
      ]
    },
    {
      "cell_type": "code",
      "source": [
        "silSamp1 = silhouette_samples(df[['AnnIncome', 'SpendScore']], df.Cluster)\n",
        "silSamp1"
      ],
      "metadata": {
        "id": "cMRL2eGwJ2To",
        "colab": {
          "base_uri": "https://localhost:8080/"
        },
        "outputId": "80d7c57f-ff1e-46d5-96e1-55cd8fc14096"
      },
      "execution_count": 23,
      "outputs": [
        {
          "output_type": "execute_result",
          "data": {
            "text/plain": [
              "array([ 0.41700493,  0.69637752,  0.6399526 ,  0.6964831 ,  0.39230007,\n",
              "        0.6981303 ,  0.64910316,  0.65972193,  0.63021343,  0.66350398,\n",
              "        0.67788678,  0.62355268,  0.68003912,  0.71908624,  0.68070792,\n",
              "        0.72573786,  0.48557434,  0.54505971,  0.58062414,  0.631684  ,\n",
              "        0.46597803,  0.6774284 ,  0.64167396,  0.67170097,  0.66126882,\n",
              "        0.70488566,  0.48931822,  0.30121073,  0.49570828,  0.6847372 ,\n",
              "        0.60630845,  0.612474  ,  0.57697817,  0.61775968,  0.60922585,\n",
              "        0.63936997,  0.58581667,  0.52897452,  0.42116018,  0.48378692,\n",
              "        0.09342298,  0.54589636, -0.00927769,  0.1170758 ,  0.31116673,\n",
              "        0.0507214 ,  0.38841392,  0.43312564,  0.29204034,  0.29204034,\n",
              "        0.5203998 ,  0.30155503,  0.51561237,  0.34144075,  0.48988757,\n",
              "        0.37332421,  0.59860522,  0.54128572,  0.63883859,  0.59367906,\n",
              "        0.55806656,  0.57952023,  0.64920886,  0.50415514,  0.67809813,\n",
              "        0.52881485,  0.68358333,  0.66547762,  0.52881485,  0.65267375,\n",
              "        0.64243997,  0.57400953,  0.70652524,  0.64014053,  0.73196104,\n",
              "        0.71947278,  0.73150424,  0.74072908,  0.74112697,  0.65442117,\n",
              "        0.74842791,  0.70493684,  0.6324437 ,  0.69181748,  0.66873928,\n",
              "        0.72079722,  0.66736088,  0.71987017,  0.61927606,  0.74062737,\n",
              "        0.71071231,  0.66933998,  0.75806935,  0.63780859,  0.68008375,\n",
              "        0.73774074,  0.74739227,  0.75333445,  0.6681954 ,  0.7479776 ,\n",
              "        0.63283954,  0.73228236,  0.58468938,  0.6713546 ,  0.65309276,\n",
              "        0.65391468,  0.71512793,  0.69903269,  0.65596358,  0.71753797,\n",
              "        0.69674735,  0.67041662,  0.61798141,  0.68149135,  0.68126272,\n",
              "        0.67902309,  0.61636814,  0.51997874,  0.56810891,  0.52148137,\n",
              "        0.54460203,  0.4988398 ,  0.43652577,  0.48194179,  0.00351627,\n",
              "        0.350038  ,  0.19940439,  0.51455576,  0.48547142,  0.33164486,\n",
              "        0.49666181,  0.33164486,  0.11529355,  0.2254125 ,  0.53389918,\n",
              "        0.54953967,  0.53671842,  0.33124639,  0.54753461,  0.32604311,\n",
              "        0.56138124,  0.57713075,  0.19236846,  0.59306426,  0.58338266,\n",
              "        0.57689717, -0.02338083,  0.45197042,  0.48286026,  0.61822335,\n",
              "        0.56143587,  0.61857464,  0.51997252,  0.51046415,  0.57147203,\n",
              "        0.61933811,  0.5718828 ,  0.54263404,  0.5718828 ,  0.44365896,\n",
              "        0.10184214,  0.60554668,  0.61371866,  0.62850916,  0.50603232,\n",
              "        0.55667737,  0.60779683,  0.6340297 ,  0.50543845,  0.28595404,\n",
              "        0.65696071,  0.56463752,  0.65419565,  0.64913803,  0.65882448,\n",
              "        0.65368602,  0.65340848,  0.45539717,  0.65239587,  0.64736478,\n",
              "        0.46477526,  0.63322429,  0.6346086 ,  0.63100118,  0.34080466,\n",
              "        0.60337125,  0.57181215,  0.46593537,  0.60637819,  0.59982837,\n",
              "        0.57321049,  0.47652583,  0.55652321,  0.54559672,  0.51127799,\n",
              "        0.47849409,  0.38313815,  0.38250608,  0.38172388,  0.36620886])"
            ]
          },
          "metadata": {},
          "execution_count": 23
        }
      ]
    },
    {
      "cell_type": "code",
      "source": [
        "# plt.fill_betweenx shortcut function\n",
        "\n",
        "def plotFill_bet_X(clusterValues, sSamples:silhouette_samples, ylow = 10 ):\n",
        "  ylow = 15\n",
        "  uVals = set(clusterValues)\n",
        "  for uVal in uVals :\n",
        "    xSamp = sSamples[clusterValues == uVal]\n",
        "    xSamp.sort()\n",
        "    yup = ylow + xSamp.shape[0]\n",
        "    plt.fill_betweenx(np.arange(ylow, yup), 0, xSamp)\n",
        "    ylow = 15 + yup"
      ],
      "metadata": {
        "id": "g0FKKy97KKJH"
      },
      "execution_count": 24,
      "outputs": []
    },
    {
      "cell_type": "code",
      "source": [
        "plt.figure(1, figsize = (15,8))\n",
        "plotFill_bet_X(df.Cluster.values, silSamp1)\n",
        "plt.show()"
      ],
      "metadata": {
        "colab": {
          "base_uri": "https://localhost:8080/",
          "height": 483
        },
        "id": "nrdq8f7Lx5_H",
        "outputId": "afbd8247-71c7-4af2-8d0c-fd606ac2975e"
      },
      "execution_count": 25,
      "outputs": [
        {
          "output_type": "display_data",
          "data": {
            "text/plain": [
              "<Figure size 1080x576 with 1 Axes>"
            ],
            "image/png": "[encoded data removed]"
          },
          "metadata": {
            "needs_background": "light"
          }
        }
      ]
    },
    {
      "cell_type": "markdown",
      "source": [
        "# Hierarchical algorith"
      ],
      "metadata": {
        "id": "XsERPRKyVs_B"
      }
    },
    {
      "cell_type": "markdown",
      "source": [
        "## AgglomerativeClustering"
      ],
      "metadata": {
        "id": "b6TU8M0UV4J0"
      }
    },
    {
      "cell_type": "code",
      "source": [
        "from sklearn.cluster import AgglomerativeClustering"
      ],
      "metadata": {
        "id": "MRMD2ZaVV3ZJ"
      },
      "execution_count": 26,
      "outputs": []
    },
    {
      "cell_type": "code",
      "source": [
        "# agglo = AgglomerativeClustering?"
      ],
      "metadata": {
        "id": "0HviCVoeWMQ2"
      },
      "execution_count": 27,
      "outputs": []
    },
    {
      "cell_type": "markdown",
      "source": [
        "So here we need a perfect 'n_cluster' value. But in this algo we cannot use Elbow method. so follow on --"
      ],
      "metadata": {
        "id": "-G9WIUd_bnp_"
      }
    },
    {
      "cell_type": "code",
      "source": [
        "def scoreComparison(text:str, itr, n_clus=2) :\n",
        "  print(f\"SilhouetteScore      {text}\")\n",
        "  for idk in itr:\n",
        "    if type(itr) == range :\n",
        "      agglo = AgglomerativeClustering(n_clusters = idk)\n",
        "    else :\n",
        "      agglo = AgglomerativeClustering(n_clusters = n_clus, linkage=idk)\n",
        "    temp = agglo.fit_predict(df[['AnnIncome', 'SpendScore']])\n",
        "    silScore = silhouette_score(df[['AnnIncome', 'SpendScore']], temp)\n",
        "    print(f\"{round(silScore,2)}                 {idk}\")\n"
      ],
      "metadata": {
        "id": "cNzOyMN8WUaF"
      },
      "execution_count": 28,
      "outputs": []
    },
    {
      "cell_type": "code",
      "source": [
        "scoreComparison(\"K-value\", range(2,10)) # custom function"
      ],
      "metadata": {
        "colab": {
          "base_uri": "https://localhost:8080/"
        },
        "id": "AqUFHC5MuIEP",
        "outputId": "657f2dda-fcd1-446c-fc68-7d8ff4fca30d"
      },
      "execution_count": 29,
      "outputs": [
        {
          "output_type": "stream",
          "name": "stdout",
          "text": [
            "SilhouetteScore      K-value\n",
            "0.37                 2\n",
            "0.46                 3\n",
            "0.49                 4\n",
            "0.55                 5\n",
            "0.54                 6\n",
            "0.52                 7\n",
            "0.43                 8\n",
            "0.44                 9\n"
          ]
        }
      ]
    },
    {
      "cell_type": "markdown",
      "source": [
        "let's see the graph for k values 4,5,6,7"
      ],
      "metadata": {
        "id": "k_y0hReuh4rQ"
      }
    },
    {
      "cell_type": "code",
      "source": [
        "for k in range(4,8) :\n",
        "  agglo = AgglomerativeClustering(n_clusters= k)\n",
        "  temp = agglo.fit_predict(df[['AnnIncome', 'SpendScore']])\n",
        "  silScore = silhouette_score(df[['AnnIncome', 'SpendScore']], temp)\n",
        "  silSamp = silhouette_samples(df[['AnnIncome', 'SpendScore']], temp)\n",
        "\n",
        "  plotFill_bet_X(temp,silSamp)    # custom function\n",
        "\n",
        "  plt.title(f\"k =  {k}, score = {round(silScore,2)}\")\n",
        "  plt.show()\n",
        "  print()"
      ],
      "metadata": {
        "colab": {
          "base_uri": "https://localhost:8080/",
          "height": 1000
        },
        "id": "t6Nrtyc7f-oY",
        "outputId": "58024dfa-0d95-438f-d5ed-d5417a56d170"
      },
      "execution_count": 30,
      "outputs": [
        {
          "output_type": "display_data",
          "data": {
            "text/plain": [
              "<Figure size 432x288 with 1 Axes>"
            ],
            "image/png": "[encoded data removed]"
          },
          "metadata": {
            "needs_background": "light"
          }
        },
        {
          "output_type": "stream",
          "name": "stdout",
          "text": [
            "\n"
          ]
        },
        {
          "output_type": "display_data",
          "data": {
            "text/plain": [
              "<Figure size 432x288 with 1 Axes>"
            ],
            "image/png": "[encoded data removed]"
          },
          "metadata": {
            "needs_background": "light"
          }
        },
        {
          "output_type": "stream",
          "name": "stdout",
          "text": [
            "\n"
          ]
        },
        {
          "output_type": "display_data",
          "data": {
            "text/plain": [
              "<Figure size 432x288 with 1 Axes>"
            ],
            "image/png": "[encoded data removed]"
          },
          "metadata": {
            "needs_background": "light"
          }
        },
        {
          "output_type": "stream",
          "name": "stdout",
          "text": [
            "\n"
          ]
        },
        {
          "output_type": "display_data",
          "data": {
            "text/plain": [
              "<Figure size 432x288 with 1 Axes>"
            ],
            "image/png": "[encoded data removed]"
          },
          "metadata": {
            "needs_background": "light"
          }
        },
        {
          "output_type": "stream",
          "name": "stdout",
          "text": [
            "\n"
          ]
        }
      ]
    },
    {
      "cell_type": "markdown",
      "source": [
        "From the vizualization it is clear that n_cluster = 5 is most appropriate"
      ],
      "metadata": {
        "id": "Yy98iDDFnbjK"
      }
    },
    {
      "cell_type": "code",
      "source": [
        "scoreComparison(\"Linkage\", {'ward', 'complete', 'average', 'single'}, n_clus=5)"
      ],
      "metadata": {
        "colab": {
          "base_uri": "https://localhost:8080/"
        },
        "id": "dnpNwXjRna3T",
        "outputId": "60bb7b62-62d1-4ccc-8454-f017c81e1553"
      },
      "execution_count": 31,
      "outputs": [
        {
          "output_type": "stream",
          "name": "stdout",
          "text": [
            "SilhouetteScore      Linkage\n",
            "0.55                 complete\n",
            "0.48                 average\n",
            "0.55                 ward\n",
            "0.27                 single\n"
          ]
        }
      ]
    },
    {
      "cell_type": "code",
      "source": [
        "linkagess = ['complete', 'ward']\n",
        "for lkg in linkagess :\n",
        "  agglo = AgglomerativeClustering(n_clusters= 5, linkage=lkg)\n",
        "  temp = agglo.fit_predict(df[['AnnIncome', 'SpendScore']])\n",
        "  silScore = silhouette_score(df[['AnnIncome', 'SpendScore']], temp)\n",
        "  silSampp = silhouette_samples(df[['AnnIncome', 'SpendScore']], temp)\n",
        "\n",
        "  plotFill_bet_X(temp,silSampp)    # custom function\n",
        "\n",
        "  plt.title(f\"Linkage =  {lkg}, score = {round(silScore,2)}\")\n",
        "  plt.show()\n",
        "  print()"
      ],
      "metadata": {
        "colab": {
          "base_uri": "https://localhost:8080/",
          "height": 580
        },
        "id": "kkMutLrSz4ZG",
        "outputId": "63da352a-f1d0-4665-e7e8-c8e4ad2ab472"
      },
      "execution_count": 32,
      "outputs": [
        {
          "output_type": "display_data",
          "data": {
            "text/plain": [
              "<Figure size 432x288 with 1 Axes>"
            ],
            "image/png": "[encoded data removed]"
          },
          "metadata": {
            "needs_background": "light"
          }
        },
        {
          "output_type": "stream",
          "name": "stdout",
          "text": [
            "\n"
          ]
        },
        {
          "output_type": "display_data",
          "data": {
            "text/plain": [
              "<Figure size 432x288 with 1 Axes>"
            ],
            "image/png": "[encoded data removed]"
          },
          "metadata": {
            "needs_background": "light"
          }
        },
        {
          "output_type": "stream",
          "name": "stdout",
          "text": [
            "\n"
          ]
        }
      ]
    },
    {
      "cell_type": "markdown",
      "source": [
        "since both linkage gave same result, choosing one"
      ],
      "metadata": {
        "id": "IaGXkgguP-fG"
      }
    },
    {
      "cell_type": "code",
      "source": [
        "agglo = AgglomerativeClustering(n_clusters = 5, linkage = 'complete')\n",
        "df.Cluster = agglo.fit_predict(df[['AnnIncome', 'SpendScore']])"
      ],
      "metadata": {
        "id": "3vuUuYluP3G1"
      },
      "execution_count": 33,
      "outputs": []
    },
    {
      "cell_type": "code",
      "source": [
        "df.head()"
      ],
      "metadata": {
        "colab": {
          "base_uri": "https://localhost:8080/",
          "height": 238
        },
        "id": "M9yXow2sQykE",
        "outputId": "e22e9c39-20a2-4dda-e588-5a54169a4964"
      },
      "execution_count": 34,
      "outputs": [
        {
          "output_type": "execute_result",
          "data": {
            "text/plain": [
              "            Gender  Age  AnnIncome  SpendScore  Cluster\n",
              "CustomerID                                             \n",
              "1                1   19         15          39        4\n",
              "2                1   21         15          81        3\n",
              "3                0   20         16           6        4\n",
              "4                0   23         16          77        3\n",
              "5                0   31         17          40        4"
            ],
            "text/html": [
              "\n",
              "  <div id=\"df-6840c921-f371-4eaf-aa07-180774c4cdf4\">\n",
              "    <div class=\"colab-df-container\">\n",
              "      <div>\n",
              "<style scoped>\n",
              "    .dataframe tbody tr th:only-of-type {\n",
              "        vertical-align: middle;\n",
              "    }\n",
              "\n",
              "    .dataframe tbody tr th {\n",
              "        vertical-align: top;\n",
              "    }\n",
              "\n",
              "    .dataframe thead th {\n",
              "        text-align: right;\n",
              "    }\n",
              "</style>\n",
              "<table border=\"1\" class=\"dataframe\">\n",
              "  <thead>\n",
              "    <tr style=\"text-align: right;\">\n",
              "      <th></th>\n",
              "      <th>Gender</th>\n",
              "      <th>Age</th>\n",
              "      <th>AnnIncome</th>\n",
              "      <th>SpendScore</th>\n",
              "      <th>Cluster</th>\n",
              "    </tr>\n",
              "    <tr>\n",
              "      <th>CustomerID</th>\n",
              "      <th></th>\n",
              "      <th></th>\n",
              "      <th></th>\n",
              "      <th></th>\n",
              "      <th></th>\n",
              "    </tr>\n",
              "  </thead>\n",
              "  <tbody>\n",
              "    <tr>\n",
              "      <th>1</th>\n",
              "      <td>1</td>\n",
              "      <td>19</td>\n",
              "      <td>15</td>\n",
              "      <td>39</td>\n",
              "      <td>4</td>\n",
              "    </tr>\n",
              "    <tr>\n",
              "      <th>2</th>\n",
              "      <td>1</td>\n",
              "      <td>21</td>\n",
              "      <td>15</td>\n",
              "      <td>81</td>\n",
              "      <td>3</td>\n",
              "    </tr>\n",
              "    <tr>\n",
              "      <th>3</th>\n",
              "      <td>0</td>\n",
              "      <td>20</td>\n",
              "      <td>16</td>\n",
              "      <td>6</td>\n",
              "      <td>4</td>\n",
              "    </tr>\n",
              "    <tr>\n",
              "      <th>4</th>\n",
              "      <td>0</td>\n",
              "      <td>23</td>\n",
              "      <td>16</td>\n",
              "      <td>77</td>\n",
              "      <td>3</td>\n",
              "    </tr>\n",
              "    <tr>\n",
              "      <th>5</th>\n",
              "      <td>0</td>\n",
              "      <td>31</td>\n",
              "      <td>17</td>\n",
              "      <td>40</td>\n",
              "      <td>4</td>\n",
              "    </tr>\n",
              "  </tbody>\n",
              "</table>\n",
              "</div>\n",
              "      <button class=\"colab-df-convert\" onclick=\"convertToInteractive('df-6840c921-f371-4eaf-aa07-180774c4cdf4')\"\n",
              "              title=\"Convert this dataframe to an interactive table.\"\n",
              "              style=\"display:none;\">\n",
              "        \n",
              "  <svg xmlns=\"http://www.w3.org/2000/svg\" height=\"24px\"viewBox=\"0 0 24 24\"\n",
              "       width=\"24px\">\n",
              "    <path d=\"M0 0h24v24H0V0z\" fill=\"none\"/>\n",
              "    <path d=\"M18.56 5.44l.94 2.06.94-2.06 2.06-.94-2.06-.94-.94-2.06-.94 2.06-2.06.94zm-11 1L8.5 8.5l.94-2.06 2.06-.94-2.06-.94L8.5 2.5l-.94 2.06-2.06.94zm10 10l.94 2.06.94-2.06 2.06-.94-2.06-.94-.94-2.06-.94 2.06-2.06.94z\"/><path d=\"M17.41 7.96l-1.37-1.37c-.4-.4-.92-.59-1.43-.59-.52 0-1.04.2-1.43.59L10.3 9.45l-7.72 7.72c-.78.78-.78 2.05 0 2.83L4 21.41c.39.39.9.59 1.41.59.51 0 1.02-.2 1.41-.59l7.78-7.78 2.81-2.81c.8-.78.8-2.07 0-2.86zM5.41 20L4 18.59l7.72-7.72 1.47 1.35L5.41 20z\"/>\n",
              "  </svg>\n",
              "      </button>\n",
              "      \n",
              "  <style>\n",
              "    .colab-df-container {\n",
              "      display:flex;\n",
              "      flex-wrap:wrap;\n",
              "      gap: 12px;\n",
              "    }\n",
              "\n",
              "    .colab-df-convert {\n",
              "      background-color: #E8F0FE;\n",
              "      border: none;\n",
              "      border-radius: 50%;\n",
              "      cursor: pointer;\n",
              "      display: none;\n",
              "      fill: #1967D2;\n",
              "      height: 32px;\n",
              "      padding: 0 0 0 0;\n",
              "      width: 32px;\n",
              "    }\n",
              "\n",
              "    .colab-df-convert:hover {\n",
              "      background-color: #E2EBFA;\n",
              "      box-shadow: 0px 1px 2px rgba(60, 64, 67, 0.3), 0px 1px 3px 1px rgba(60, 64, 67, 0.15);\n",
              "      fill: #174EA6;\n",
              "    }\n",
              "\n",
              "    [theme=dark] .colab-df-convert {\n",
              "      background-color: #3B4455;\n",
              "      fill: #D2E3FC;\n",
              "    }\n",
              "\n",
              "    [theme=dark] .colab-df-convert:hover {\n",
              "      background-color: #434B5C;\n",
              "      box-shadow: 0px 1px 3px 1px rgba(0, 0, 0, 0.15);\n",
              "      filter: drop-shadow(0px 1px 2px rgba(0, 0, 0, 0.3));\n",
              "      fill: #FFFFFF;\n",
              "    }\n",
              "  </style>\n",
              "\n",
              "      <script>\n",
              "        const buttonEl =\n",
              "          document.querySelector('#df-6840c921-f371-4eaf-aa07-180774c4cdf4 button.colab-df-convert');\n",
              "        buttonEl.style.display =\n",
              "          google.colab.kernel.accessAllowed ? 'block' : 'none';\n",
              "\n",
              "        async function convertToInteractive(key) {\n",
              "          const element = document.querySelector('#df-6840c921-f371-4eaf-aa07-180774c4cdf4');\n",
              "          const dataTable =\n",
              "            await google.colab.kernel.invokeFunction('convertToInteractive',\n",
              "                                                     [key], {});\n",
              "          if (!dataTable) return;\n",
              "\n",
              "          const docLinkHtml = 'Like what you see? Visit the ' +\n",
              "            '<a target=\"_blank\" href=https://colab.research.google.com/notebooks/data_table.ipynb>data table notebook</a>'\n",
              "            + ' to learn more about interactive tables.';\n",
              "          element.innerHTML = '';\n",
              "          dataTable['output_type'] = 'display_data';\n",
              "          await google.colab.output.renderOutput(dataTable, element);\n",
              "          const docLink = document.createElement('div');\n",
              "          docLink.innerHTML = docLinkHtml;\n",
              "          element.appendChild(docLink);\n",
              "        }\n",
              "      </script>\n",
              "    </div>\n",
              "  </div>\n",
              "  "
            ]
          },
          "metadata": {},
          "execution_count": 34
        }
      ]
    },
    {
      "cell_type": "code",
      "source": [
        "plt.figure(1, figsize=(12,8))\n",
        "sns.scatterplot(x= df.AnnIncome, y=df.SpendScore, hue = df.Cluster, palette='cool')"
      ],
      "metadata": {
        "colab": {
          "base_uri": "https://localhost:8080/",
          "height": 514
        },
        "id": "Jrpvym4MQzfE",
        "outputId": "ba2d299b-e8fe-4c8f-e96d-00330cb7cbed"
      },
      "execution_count": 35,
      "outputs": [
        {
          "output_type": "execute_result",
          "data": {
            "text/plain": [
              "<matplotlib.axes._subplots.AxesSubplot at 0x7fd257dc6610>"
            ]
          },
          "metadata": {},
          "execution_count": 35
        },
        {
          "output_type": "display_data",
          "data": {
            "text/plain": [
              "<Figure size 864x576 with 1 Axes>"
            ],
            "image/png": "[encoded data removed]"
          },
          "metadata": {
            "needs_background": "light"
          }
        }
      ]
    },
    {
      "cell_type": "markdown",
      "source": [
        "# DBSCAN Algorithm"
      ],
      "metadata": {
        "id": "C35LeDXISAfM"
      }
    },
    {
      "cell_type": "code",
      "source": [
        "from sklearn.model_selection import RandomizedSearchCV\n",
        "from sklearn.cluster import DBSCAN"
      ],
      "metadata": {
        "id": "iol8CpTrRA9N"
      },
      "execution_count": 36,
      "outputs": []
    },
    {
      "cell_type": "code",
      "source": [
        "# denb = DBSCAN?"
      ],
      "metadata": {
        "id": "JgMhJ2b2Si9v"
      },
      "execution_count": 37,
      "outputs": []
    },
    {
      "cell_type": "code",
      "source": [
        "epss = np.linspace(0.4, 6, 50)\n",
        "# epss = np.arange(1,5)\n",
        "minSamp = np.arange(1,10)"
      ],
      "metadata": {
        "id": "DiLH_NjjXTIS"
      },
      "execution_count": 38,
      "outputs": []
    },
    {
      "cell_type": "code",
      "source": [
        "comb = np.array([[round(e,2),m] for e in epss for m in minSamp])"
      ],
      "metadata": {
        "id": "wlta8qXbqys0"
      },
      "execution_count": 39,
      "outputs": []
    },
    {
      "cell_type": "code",
      "source": [
        "janina = []\n",
        "for ep,ms in comb:\n",
        "  denb = DBSCAN(eps=ep, min_samples=ms, n_jobs=-1)\n",
        "  label = denb.fit_predict(df[['AnnIncome', 'SpendScore']])\n",
        "  try :\n",
        "    score = silhouette_score(df[['AnnIncome', 'SpendScore']], label)\n",
        "  except :\n",
        "    continue\n",
        "  janina.append([ep, ms, round(score,2)])"
      ],
      "metadata": {
        "id": "dCLQX5IRrDnL"
      },
      "execution_count": 40,
      "outputs": []
    },
    {
      "cell_type": "code",
      "source": [
        "janina.sort()"
      ],
      "metadata": {
        "id": "MuhRDDMz-kA_"
      },
      "execution_count": 41,
      "outputs": []
    },
    {
      "cell_type": "code",
      "source": [
        "print(\"eps      minSamp       Silscore\")\n",
        "[f\" {i}     {j}            {k}\" for i,j,k in janina]"
      ],
      "metadata": {
        "colab": {
          "base_uri": "https://localhost:8080/"
        },
        "id": "XZ3Djxwm2nlJ",
        "outputId": "9b9b0218-436c-430b-dcdc-1e8a5af7bcbb"
      },
      "execution_count": 42,
      "outputs": [
        {
          "output_type": "stream",
          "name": "stdout",
          "text": [
            "eps      minSamp       Silscore\n"
          ]
        },
        {
          "output_type": "execute_result",
          "data": {
            "text/plain": [
              "[' 0.4     1.0            0.04',\n",
              " ' 0.4     2.0            -0.5',\n",
              " ' 0.51     1.0            0.04',\n",
              " ' 0.51     2.0            -0.5',\n",
              " ' 0.63     1.0            0.04',\n",
              " ' 0.63     2.0            -0.5',\n",
              " ' 0.74     1.0            0.04',\n",
              " ' 0.74     2.0            -0.5',\n",
              " ' 0.86     1.0            0.04',\n",
              " ' 0.86     2.0            -0.5',\n",
              " ' 0.97     1.0            0.04',\n",
              " ' 0.97     2.0            -0.5',\n",
              " ' 1.09     1.0            0.15',\n",
              " ' 1.09     2.0            -0.37',\n",
              " ' 1.09     3.0            -0.43',\n",
              " ' 1.2     1.0            0.15',\n",
              " ' 1.2     2.0            -0.37',\n",
              " ' 1.2     3.0            -0.43',\n",
              " ' 1.31     1.0            0.15',\n",
              " ' 1.31     2.0            -0.37',\n",
              " ' 1.31     3.0            -0.43',\n",
              " ' 1.43     1.0            0.21',\n",
              " ' 1.43     2.0            -0.22',\n",
              " ' 1.43     3.0            -0.36',\n",
              " ' 1.43     4.0            -0.35',\n",
              " ' 1.54     1.0            0.21',\n",
              " ' 1.54     2.0            -0.22',\n",
              " ' 1.54     3.0            -0.36',\n",
              " ' 1.54     4.0            -0.35',\n",
              " ' 1.66     1.0            0.21',\n",
              " ' 1.66     2.0            -0.22',\n",
              " ' 1.66     3.0            -0.36',\n",
              " ' 1.66     4.0            -0.35',\n",
              " ' 1.77     1.0            0.21',\n",
              " ' 1.77     2.0            -0.22',\n",
              " ' 1.77     3.0            -0.36',\n",
              " ' 1.77     4.0            -0.35',\n",
              " ' 1.89     1.0            0.21',\n",
              " ' 1.89     2.0            -0.22',\n",
              " ' 1.89     3.0            -0.36',\n",
              " ' 1.89     4.0            -0.35',\n",
              " ' 2.0     1.0            0.23',\n",
              " ' 2.0     2.0            -0.07',\n",
              " ' 2.0     3.0            -0.29',\n",
              " ' 2.0     4.0            -0.28',\n",
              " ' 2.0     5.0            -0.34',\n",
              " ' 2.0     6.0            -0.29',\n",
              " ' 2.11     1.0            0.23',\n",
              " ' 2.11     2.0            -0.07',\n",
              " ' 2.11     3.0            -0.29',\n",
              " ' 2.11     4.0            -0.28',\n",
              " ' 2.11     5.0            -0.34',\n",
              " ' 2.11     6.0            -0.29',\n",
              " ' 2.23     1.0            0.23',\n",
              " ' 2.23     2.0            -0.07',\n",
              " ' 2.23     3.0            -0.29',\n",
              " ' 2.23     4.0            -0.28',\n",
              " ' 2.23     5.0            -0.34',\n",
              " ' 2.23     6.0            -0.29',\n",
              " ' 2.34     1.0            0.3',\n",
              " ' 2.34     2.0            0.07',\n",
              " ' 2.34     3.0            -0.2',\n",
              " ' 2.34     4.0            -0.28',\n",
              " ' 2.34     5.0            -0.27',\n",
              " ' 2.34     6.0            -0.3',\n",
              " ' 2.34     7.0            -0.28',\n",
              " ' 2.46     1.0            0.3',\n",
              " ' 2.46     2.0            0.07',\n",
              " ' 2.46     3.0            -0.2',\n",
              " ' 2.46     4.0            -0.28',\n",
              " ' 2.46     5.0            -0.27',\n",
              " ' 2.46     6.0            -0.3',\n",
              " ' 2.46     7.0            -0.28',\n",
              " ' 2.57     1.0            0.3',\n",
              " ' 2.57     2.0            0.07',\n",
              " ' 2.57     3.0            -0.2',\n",
              " ' 2.57     4.0            -0.28',\n",
              " ' 2.57     5.0            -0.27',\n",
              " ' 2.57     6.0            -0.3',\n",
              " ' 2.57     7.0            -0.28',\n",
              " ' 2.69     1.0            0.3',\n",
              " ' 2.69     2.0            0.07',\n",
              " ' 2.69     3.0            -0.2',\n",
              " ' 2.69     4.0            -0.28',\n",
              " ' 2.69     5.0            -0.27',\n",
              " ' 2.69     6.0            -0.3',\n",
              " ' 2.69     7.0            -0.28',\n",
              " ' 2.8     1.0            0.3',\n",
              " ' 2.8     2.0            0.07',\n",
              " ' 2.8     3.0            -0.2',\n",
              " ' 2.8     4.0            -0.28',\n",
              " ' 2.8     5.0            -0.27',\n",
              " ' 2.8     6.0            -0.3',\n",
              " ' 2.8     7.0            -0.28',\n",
              " ' 2.91     1.0            0.29',\n",
              " ' 2.91     2.0            0.07',\n",
              " ' 2.91     3.0            -0.18',\n",
              " ' 2.91     4.0            -0.23',\n",
              " ' 2.91     5.0            -0.29',\n",
              " ' 2.91     6.0            -0.3',\n",
              " ' 2.91     7.0            -0.27',\n",
              " ' 2.91     8.0            -0.28',\n",
              " ' 2.91     9.0            -0.3',\n",
              " ' 3.03     1.0            0.25',\n",
              " ' 3.03     2.0            0.07',\n",
              " ' 3.03     3.0            -0.14',\n",
              " ' 3.03     4.0            -0.19',\n",
              " ' 3.03     5.0            -0.26',\n",
              " ' 3.03     6.0            -0.23',\n",
              " ' 3.03     7.0            -0.29',\n",
              " ' 3.03     8.0            -0.27',\n",
              " ' 3.03     9.0            -0.29',\n",
              " ' 3.14     1.0            0.25',\n",
              " ' 3.14     2.0            0.07',\n",
              " ' 3.14     3.0            -0.14',\n",
              " ' 3.14     4.0            -0.19',\n",
              " ' 3.14     5.0            -0.26',\n",
              " ' 3.14     6.0            -0.23',\n",
              " ' 3.14     7.0            -0.29',\n",
              " ' 3.14     8.0            -0.27',\n",
              " ' 3.14     9.0            -0.29',\n",
              " ' 3.26     1.0            0.26',\n",
              " ' 3.26     2.0            0.14',\n",
              " ' 3.26     3.0            -0.05',\n",
              " ' 3.26     4.0            -0.11',\n",
              " ' 3.26     5.0            -0.25',\n",
              " ' 3.26     6.0            -0.22',\n",
              " ' 3.26     7.0            -0.23',\n",
              " ' 3.26     8.0            -0.26',\n",
              " ' 3.26     9.0            -0.27',\n",
              " ' 3.37     1.0            0.26',\n",
              " ' 3.37     2.0            0.14',\n",
              " ' 3.37     3.0            -0.05',\n",
              " ' 3.37     4.0            -0.11',\n",
              " ' 3.37     5.0            -0.25',\n",
              " ' 3.37     6.0            -0.22',\n",
              " ' 3.37     7.0            -0.23',\n",
              " ' 3.37     8.0            -0.26',\n",
              " ' 3.37     9.0            -0.27',\n",
              " ' 3.49     1.0            0.26',\n",
              " ' 3.49     2.0            0.14',\n",
              " ' 3.49     3.0            -0.05',\n",
              " ' 3.49     4.0            -0.11',\n",
              " ' 3.49     5.0            -0.25',\n",
              " ' 3.49     6.0            -0.22',\n",
              " ' 3.49     7.0            -0.23',\n",
              " ' 3.49     8.0            -0.26',\n",
              " ' 3.49     9.0            -0.27',\n",
              " ' 3.6     1.0            0.26',\n",
              " ' 3.6     2.0            0.14',\n",
              " ' 3.6     3.0            -0.05',\n",
              " ' 3.6     4.0            -0.11',\n",
              " ' 3.6     5.0            -0.25',\n",
              " ' 3.6     6.0            -0.22',\n",
              " ' 3.6     7.0            -0.23',\n",
              " ' 3.6     8.0            -0.26',\n",
              " ' 3.6     9.0            -0.27',\n",
              " ' 3.71     1.0            0.27',\n",
              " ' 3.71     2.0            0.16',\n",
              " ' 3.71     3.0            -0.04',\n",
              " ' 3.71     4.0            -0.09',\n",
              " ' 3.71     5.0            -0.18',\n",
              " ' 3.71     6.0            -0.18',\n",
              " ' 3.71     7.0            -0.18',\n",
              " ' 3.71     8.0            -0.15',\n",
              " ' 3.71     9.0            -0.15',\n",
              " ' 3.83     1.0            0.27',\n",
              " ' 3.83     2.0            0.16',\n",
              " ' 3.83     3.0            -0.04',\n",
              " ' 3.83     4.0            -0.09',\n",
              " ' 3.83     5.0            -0.18',\n",
              " ' 3.83     6.0            -0.18',\n",
              " ' 3.83     7.0            -0.18',\n",
              " ' 3.83     8.0            -0.15',\n",
              " ' 3.83     9.0            -0.15',\n",
              " ' 3.94     1.0            0.27',\n",
              " ' 3.94     2.0            0.16',\n",
              " ' 3.94     3.0            -0.04',\n",
              " ' 3.94     4.0            -0.09',\n",
              " ' 3.94     5.0            -0.18',\n",
              " ' 3.94     6.0            -0.18',\n",
              " ' 3.94     7.0            -0.18',\n",
              " ' 3.94     8.0            -0.15',\n",
              " ' 3.94     9.0            -0.15',\n",
              " ' 4.06     1.0            0.27',\n",
              " ' 4.06     2.0            0.18',\n",
              " ' 4.06     3.0            0.01',\n",
              " ' 4.06     4.0            -0.01',\n",
              " ' 4.06     5.0            -0.1',\n",
              " ' 4.06     6.0            -0.1',\n",
              " ' 4.06     7.0            -0.18',\n",
              " ' 4.06     8.0            -0.2',\n",
              " ' 4.06     9.0            -0.15',\n",
              " ' 4.17     1.0            0.16',\n",
              " ' 4.17     2.0            0.15',\n",
              " ' 4.17     3.0            0.02',\n",
              " ' 4.17     4.0            0.07',\n",
              " ' 4.17     5.0            0.04',\n",
              " ' 4.17     6.0            0.01',\n",
              " ' 4.17     7.0            0.03',\n",
              " ' 4.17     8.0            -0.11',\n",
              " ' 4.17     9.0            -0.16',\n",
              " ' 4.29     1.0            0.16',\n",
              " ' 4.29     2.0            0.16',\n",
              " ' 4.29     3.0            0.04',\n",
              " ' 4.29     4.0            0.08',\n",
              " ' 4.29     5.0            0.06',\n",
              " ' 4.29     6.0            0.08',\n",
              " ' 4.29     7.0            -0.14',\n",
              " ' 4.29     8.0            -0.0',\n",
              " ' 4.29     9.0            -0.01',\n",
              " ' 4.4     1.0            0.16',\n",
              " ' 4.4     2.0            0.16',\n",
              " ' 4.4     3.0            0.04',\n",
              " ' 4.4     4.0            0.08',\n",
              " ' 4.4     5.0            0.06',\n",
              " ' 4.4     6.0            0.08',\n",
              " ' 4.4     7.0            -0.14',\n",
              " ' 4.4     8.0            -0.0',\n",
              " ' 4.4     9.0            -0.01',\n",
              " ' 4.51     1.0            0.16',\n",
              " ' 4.51     2.0            0.18',\n",
              " ' 4.51     3.0            0.07',\n",
              " ' 4.51     4.0            0.11',\n",
              " ' 4.51     5.0            0.06',\n",
              " ' 4.51     6.0            0.05',\n",
              " ' 4.51     7.0            0.01',\n",
              " ' 4.51     8.0            0.06',\n",
              " ' 4.51     9.0            0.03',\n",
              " ' 4.63     1.0            0.16',\n",
              " ' 4.63     2.0            0.18',\n",
              " ' 4.63     3.0            0.07',\n",
              " ' 4.63     4.0            0.11',\n",
              " ' 4.63     5.0            0.06',\n",
              " ' 4.63     6.0            0.05',\n",
              " ' 4.63     7.0            0.01',\n",
              " ' 4.63     8.0            0.06',\n",
              " ' 4.63     9.0            0.03',\n",
              " ' 4.74     1.0            0.16',\n",
              " ' 4.74     2.0            0.18',\n",
              " ' 4.74     3.0            0.07',\n",
              " ' 4.74     4.0            0.11',\n",
              " ' 4.74     5.0            0.06',\n",
              " ' 4.74     6.0            0.05',\n",
              " ' 4.74     7.0            0.01',\n",
              " ' 4.74     8.0            0.06',\n",
              " ' 4.74     9.0            0.03',\n",
              " ' 4.86     1.0            0.16',\n",
              " ' 4.86     2.0            0.18',\n",
              " ' 4.86     3.0            0.07',\n",
              " ' 4.86     4.0            0.11',\n",
              " ' 4.86     5.0            0.06',\n",
              " ' 4.86     6.0            0.05',\n",
              " ' 4.86     7.0            0.01',\n",
              " ' 4.86     8.0            0.06',\n",
              " ' 4.86     9.0            0.03',\n",
              " ' 4.97     1.0            0.16',\n",
              " ' 4.97     2.0            0.18',\n",
              " ' 4.97     3.0            0.07',\n",
              " ' 4.97     4.0            0.11',\n",
              " ' 4.97     5.0            0.06',\n",
              " ' 4.97     6.0            0.05',\n",
              " ' 4.97     7.0            0.01',\n",
              " ' 4.97     8.0            0.06',\n",
              " ' 4.97     9.0            0.03',\n",
              " ' 5.09     1.0            0.27',\n",
              " ' 5.09     2.0            0.21',\n",
              " ' 5.09     3.0            0.13',\n",
              " ' 5.09     4.0            0.14',\n",
              " ' 5.09     5.0            0.11',\n",
              " ' 5.09     6.0            0.06',\n",
              " ' 5.09     7.0            0.04',\n",
              " ' 5.09     8.0            0.02',\n",
              " ' 5.09     9.0            0.1',\n",
              " ' 5.2     1.0            0.23',\n",
              " ' 5.2     2.0            0.21',\n",
              " ' 5.2     3.0            0.23',\n",
              " ' 5.2     4.0            0.2',\n",
              " ' 5.2     5.0            0.14',\n",
              " ' 5.2     6.0            0.1',\n",
              " ' 5.2     7.0            0.06',\n",
              " ' 5.2     8.0            0.04',\n",
              " ' 5.2     9.0            0.1',\n",
              " ' 5.31     1.0            0.23',\n",
              " ' 5.31     2.0            0.21',\n",
              " ' 5.31     3.0            0.23',\n",
              " ' 5.31     4.0            0.2',\n",
              " ' 5.31     5.0            0.14',\n",
              " ' 5.31     6.0            0.1',\n",
              " ' 5.31     7.0            0.06',\n",
              " ' 5.31     8.0            0.04',\n",
              " ' 5.31     9.0            0.1',\n",
              " ' 5.43     1.0            0.25',\n",
              " ' 5.43     2.0            0.24',\n",
              " ' 5.43     3.0            0.24',\n",
              " ' 5.43     4.0            0.17',\n",
              " ' 5.43     5.0            0.14',\n",
              " ' 5.43     6.0            0.13',\n",
              " ' 5.43     7.0            0.06',\n",
              " ' 5.43     8.0            0.04',\n",
              " ' 5.43     9.0            0.12',\n",
              " ' 5.54     1.0            0.25',\n",
              " ' 5.54     2.0            0.24',\n",
              " ' 5.54     3.0            0.24',\n",
              " ' 5.54     4.0            0.17',\n",
              " ' 5.54     5.0            0.14',\n",
              " ' 5.54     6.0            0.13',\n",
              " ' 5.54     7.0            0.06',\n",
              " ' 5.54     8.0            0.04',\n",
              " ' 5.54     9.0            0.12',\n",
              " ' 5.66     1.0            0.25',\n",
              " ' 5.66     2.0            0.24',\n",
              " ' 5.66     3.0            0.24',\n",
              " ' 5.66     4.0            0.17',\n",
              " ' 5.66     5.0            0.15',\n",
              " ' 5.66     6.0            0.14',\n",
              " ' 5.66     7.0            0.09',\n",
              " ' 5.66     8.0            0.05',\n",
              " ' 5.66     9.0            0.13',\n",
              " ' 5.77     1.0            0.25',\n",
              " ' 5.77     2.0            0.24',\n",
              " ' 5.77     3.0            0.24',\n",
              " ' 5.77     4.0            0.17',\n",
              " ' 5.77     5.0            0.15',\n",
              " ' 5.77     6.0            0.14',\n",
              " ' 5.77     7.0            0.09',\n",
              " ' 5.77     8.0            0.05',\n",
              " ' 5.77     9.0            0.13',\n",
              " ' 5.89     1.0            0.26',\n",
              " ' 5.89     2.0            0.26',\n",
              " ' 5.89     3.0            0.26',\n",
              " ' 5.89     4.0            0.14',\n",
              " ' 5.89     5.0            0.16',\n",
              " ' 5.89     6.0            0.15',\n",
              " ' 5.89     7.0            0.12',\n",
              " ' 5.89     8.0            0.1',\n",
              " ' 5.89     9.0            0.06',\n",
              " ' 6.0     1.0            0.25',\n",
              " ' 6.0     2.0            0.26',\n",
              " ' 6.0     3.0            0.27',\n",
              " ' 6.0     4.0            0.15',\n",
              " ' 6.0     5.0            0.17',\n",
              " ' 6.0     6.0            0.15',\n",
              " ' 6.0     7.0            0.13',\n",
              " ' 6.0     8.0            0.1',\n",
              " ' 6.0     9.0            0.06']"
            ]
          },
          "metadata": {},
          "execution_count": 42
        }
      ]
    },
    {
      "cell_type": "markdown",
      "source": [
        "There is no such value that can beat other algorithm's score. So this algorithm won't work well"
      ],
      "metadata": {
        "id": "998jNGVh7tku"
      }
    }
  ]
}